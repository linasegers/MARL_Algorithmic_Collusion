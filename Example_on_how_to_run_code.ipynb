{
 "cells": [
  {
   "cell_type": "markdown",
   "metadata": {},
   "source": [
    "<hr style=\"border:2px solid gray\"> </hr>\n",
    "\n",
    "# Paper Algorithmic Collusion: Notebook to run all experiments\n",
    "\n",
    "Authors: L.Q. Segers\n",
    "\n",
    "Date: January 2021\n",
    "\n",
    "Description: This notebook is used to run the experiment\n",
    "\n",
    "<hr style=\"border:0.5px solid gray\"> </hr>"
   ]
  },
  {
   "cell_type": "code",
   "execution_count": 1,
   "metadata": {
    "pycharm": {
     "is_executing": false
    }
   },
   "outputs": [
    {
     "data": {
      "text/markdown": [
       "**LAST UPDATED ON: 01/05/2021**"
      ],
      "text/plain": [
       "<IPython.core.display.Markdown object>"
      ]
     },
     "metadata": {},
     "output_type": "display_data"
    }
   ],
   "source": [
    "from datetime import date\n",
    "from IPython.display import display, Markdown\n",
    "\n",
    "fdate = date.today().strftime('%d/%m/%Y')\n",
    "display(Markdown(F\"**LAST UPDATED ON: {fdate}**\"))"
   ]
  },
  {
   "cell_type": "markdown",
   "metadata": {},
   "source": [
    "<hr style=\"border:2px solid gray\"> </hr>"
   ]
  },
  {
   "cell_type": "markdown",
   "metadata": {},
   "source": [
    "## Impact different parameter settings"
   ]
  },
  {
   "cell_type": "markdown",
   "metadata": {},
   "source": [
    "##### Demand"
   ]
  },
  {
   "cell_type": "code",
   "execution_count": 8,
   "metadata": {},
   "outputs": [
    {
     "name": "stderr",
     "output_type": "stream",
     "text": [
      "C:\\Users\\linas\\PycharmProjects\\algocollusion\\algcol\\experiment\\environment.py:67: UserWarning: Seems like the Bertrand prices incorporate a rounding discrepancy, price are: [3.3834775599954243, 3.3834775554119827]\n",
      "  warnings.warn(f'Seems like the Bertrand prices incorporate a rounding discrepancy, price are: {[item[-1] for item in previous_prices]}')\n"
     ]
    }
   ],
   "source": [
    "# Create demand object ---------------------------------------------------\n",
    "from algcol.experiment.environment import Environment\n",
    "\n",
    "env = Environment(price_intervals=10, utility=5, h_diff=2, firmcost=0, demand='logit', agents=2)\n",
    "env.environment(BM_increment=False, tolerance=5)"
   ]
  },
  {
   "cell_type": "markdown",
   "metadata": {},
   "source": [
    "##### Run setting"
   ]
  },
  {
   "cell_type": "code",
   "execution_count": 9,
   "metadata": {},
   "outputs": [],
   "source": [
    "import itertools, timeit\n",
    "from algcol.experiment.baseexperiment import BaseExperiment\n",
    "\n",
    "# Algorithm combinations -----------------------------------------------------------------------\n",
    "types = [[x, y] for x in [0.05, 0.2, 0.35] for y in [0.1, 0.2, 0.3]]\n",
    "types_in_rows = list(itertools.combinations_with_replacement(types, 2))\n",
    "a = [[[types_in_rows[x][0][0], types_in_rows[x][1][0]], [types_in_rows[x][0][1], types_in_rows[x][1][1]]] for x in range(len(types_in_rows))]\n",
    "\n",
    "# Parameters -----------------------------------------------------------------------------------\n",
    "params = {'alpha': None,\n",
    "          'gamma': 0.95,\n",
    "          'policy': 'egreedy',\n",
    "          'policy_parameter': None,\n",
    "          'n_runs': 1250000,\n",
    "          'lambda_trace': None,\n",
    "          'setting': [\"QLearning\", \"QLearning\"],\n",
    "          'number_of_agents': 2,\n",
    "          'learningrate_decay': 'constant',\n",
    "          'egreedy_decay': 'linear', \n",
    "          'environment': env}\n",
    "\n",
    "# Run settings ----------------------------------------------------------------------------------\n",
    "for y in range(len(todo)):\n",
    "    params['alpha'] = all[y][1]\n",
    "    params['policy_parameter'] = all[y][0]\n",
    "\n",
    "    total_time = 0\n",
    "\n",
    "    start = f'Starting alpha: {params[\"alpha\"]} and epsilon {params[\"policy_parameter\"]} session'\n",
    "\n",
    "    with open(f'E:/exp3_2/log.txt', 'a') as f:\n",
    "        f.write(f'{start} \\n')\n",
    "        f.close()\n",
    "\n",
    "    for x in range(100):\n",
    "\n",
    "        start = timeit.default_timer()\n",
    "\n",
    "        train = BaseExperiment(identifier=x, **params)\n",
    "        train.initialize_experiment(initialization='myopic')\n",
    "        train.training()\n",
    "        train.save_session(location=f'E:/exp3_2/', \n",
    "                           foldername= f'v_a{\"\".join([str(x) for x in params[\"alpha\"]])}_e{\"\".join([str(x) for x in params[\"policy_parameter\"]])}')\n",
    "\n",
    "        stop = timeit.default_timer()\n",
    "        time = stop - start\n",
    "        total_time = total_time + time\n",
    "        intermediate = f'Time used for session {x} is: {time} seconds'\n",
    "\n",
    "        with open(f'E:/exp3_2/log.txt', 'a') as f:\n",
    "            f.write(f'{intermediate} \\n')\n",
    "            f.close()\n",
    "\n",
    "        del train\n",
    "\n",
    "    end = f'Total time consumed is: {total_time} seconds'\n",
    "\n",
    "    with open(f'E:/exp3_2/log.txt', 'a') as f:\n",
    "        f.write(f'{end} \\n')\n",
    "        f.close()"
   ]
  }
 ],
 "metadata": {
  "kernelspec": {
   "display_name": "Python 3 (ipykernel)",
   "language": "python",
   "name": "python3"
  },
  "language_info": {
   "codemirror_mode": {
    "name": "ipython",
    "version": 3
   },
   "file_extension": ".py",
   "mimetype": "text/x-python",
   "name": "python",
   "nbconvert_exporter": "python",
   "pygments_lexer": "ipython3",
   "version": "3.12.3"
  },
  "pycharm": {
   "stem_cell": {
    "cell_type": "raw",
    "metadata": {
     "collapsed": false
    },
    "source": []
   }
  },
  "toc": {
   "base_numbering": 1,
   "nav_menu": {},
   "number_sections": true,
   "sideBar": true,
   "skip_h1_title": true,
   "title_cell": "Table of Contents",
   "title_sidebar": "Contents",
   "toc_cell": true,
   "toc_position": {
    "height": "calc(100% - 180px)",
    "left": "10px",
    "top": "150px",
    "width": "307.2px"
   },
   "toc_section_display": true,
   "toc_window_display": true
  }
 },
 "nbformat": 4,
 "nbformat_minor": 4
}
